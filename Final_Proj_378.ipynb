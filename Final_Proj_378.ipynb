{
 "cells": [
  {
   "cell_type": "code",
   "execution_count": 18,
   "metadata": {},
   "outputs": [],
   "source": [
    "from scipy.io import wavfile as wv\n",
    "from scipy.signal import correlate\n",
    "from scipy.stats import entropy\n",
    "import numpy as np\n",
    "import os\n",
    "import librosa"
   ]
  },
  {
   "cell_type": "code",
   "execution_count": 2,
   "metadata": {},
   "outputs": [],
   "source": [
    "# Directory to my training set should change\n",
    "directory = \"/Users/noahvilla/Downloads/Dataset/train\"\n",
    "\n",
    "audio_data_list = []\n",
    "sampling_rate_list = []\n",
    "\n",
    "# Iterate over training data\n",
    "for filename in os.listdir(directory):\n",
    "    # Loads all the .wav files in the traning set\n",
    "    if filename.endswith(\".wav\"):\n",
    "        file_path = os.path.join(directory, filename)\n",
    "        audio_data, sampling_rate = librosa.load(file_path, sr=None)\n",
    "        \n",
    "        # Append the audio data and sampling rate to the lists\n",
    "        audio_data_list.append(audio_data)\n",
    "        sampling_rate_list.append(sampling_rate)\n",
    "\n",
    "# Now we can use the audio data and sampling rate data"
   ]
  },
  {
   "cell_type": "code",
   "execution_count": 3,
   "metadata": {},
   "outputs": [],
   "source": [
    "#Gathers the frequency information of a song\n",
    "fft_list = []\n",
    "for song in audio_data_list:\n",
    "    fft_list.append(np.fft.fft(song))"
   ]
  },
  {
   "cell_type": "code",
   "execution_count": 4,
   "metadata": {},
   "outputs": [],
   "source": [
    "# Computes energy of each song\n",
    "energy_list = []\n",
    "for song in audio_data_list:\n",
    "    energy_list.append(np.sum(np.square(song)))"
   ]
  },
  {
   "cell_type": "code",
   "execution_count": 5,
   "metadata": {},
   "outputs": [],
   "source": [
    "# Finds the variance and mean of each song\n",
    "variance_list = []\n",
    "expectation_list = []\n",
    "for song in audio_data_list:\n",
    "    variance_list.append(np.var(song))\n",
    "    expectation_list.append(np.mean(song))"
   ]
  },
  {
   "cell_type": "code",
   "execution_count": 9,
   "metadata": {},
   "outputs": [],
   "source": [
    "entropy_list = []\n",
    "for song in audio_data_list:\n",
    "    entropy_list.append(entropy(song))"
   ]
  },
  {
   "cell_type": "code",
   "execution_count": 16,
   "metadata": {},
   "outputs": [
    {
     "name": "stdout",
     "output_type": "stream",
     "text": [
      "-inf\n"
     ]
    }
   ],
   "source": [
    "tempo_list = []\n",
    "for i in range(0,len(audio_data_list)):\n",
    "    tempo, _ = librosa.beat.beat_track(y=audio_data_list[i], sr=sampling_rate_list[i])\n",
    "    tempo_list.append(tempo)"
   ]
  },
  {
   "cell_type": "code",
   "execution_count": null,
   "metadata": {},
   "outputs": [],
   "source": [
    "zero_cross_rate_list = []\n",
    "for song in audio_data_list:\n",
    "    zero_cross_rate_list.append(librosa.feature.zero_crossing_rate(song))"
   ]
  }
 ],
 "metadata": {
  "kernelspec": {
   "display_name": "Python 3",
   "language": "python",
   "name": "python3"
  },
  "language_info": {
   "codemirror_mode": {
    "name": "ipython",
    "version": 3
   },
   "file_extension": ".py",
   "mimetype": "text/x-python",
   "name": "python",
   "nbconvert_exporter": "python",
   "pygments_lexer": "ipython3",
   "version": "3.9.6"
  }
 },
 "nbformat": 4,
 "nbformat_minor": 2
}
